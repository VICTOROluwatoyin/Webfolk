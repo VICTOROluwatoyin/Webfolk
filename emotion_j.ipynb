{
 "cells": [
  {
   "cell_type": "markdown",
   "id": "a4f05ccd-e236-4df7-a294-56d1e5d86864",
   "metadata": {},
   "source": [
    "#### Load the dataset"
   ]
  },
  {
   "cell_type": "code",
   "execution_count": null,
   "id": "2fd7f889-9634-4bd9-b530-ab2e8a7501a5",
   "metadata": {},
   "outputs": [],
   "source": [
    "import pandas as pd\n",
    "test = pd.read_csv('test.csv')\n",
    "train = pd.read_csv('training.csv')\n",
    "valid = pd.read_csv('validation.csv')\n",
    "\n"
   ]
  },
  {
   "cell_type": "markdown",
   "id": "102d269c-07d2-48fb-94f2-b665a34883bc",
   "metadata": {},
   "source": [
    "## Data exploration\n",
    "#### store the test, train and validation data as a list"
   ]
  },
  {
   "cell_type": "code",
   "execution_count": null,
   "id": "4be8b101-14c8-449e-9c3f-74f96fa86f75",
   "metadata": {},
   "outputs": [],
   "source": [
    "data = [test, train, valid]\n",
    "\n",
    "\n",
    "\n",
    "for i in data:\n",
    "    print (i.shape)\n",
    "    print(i.sample(5))\n",
    "    print(i.head())"
   ]
  },
  {
   "cell_type": "markdown",
   "id": "4fbe00d3-69f5-482e-8862-f2553a9d21ed",
   "metadata": {},
   "source": [
    "tweet id column serves no function, so i drop it"
   ]
  },
  {
   "cell_type": "markdown",
   "id": "5384beac-ea53-40c7-9c1c-3057fa27cbb5",
   "metadata": {},
   "source": [
    "### Chcek the numbers of the dataset\n"
   ]
  },
  {
   "cell_type": "code",
   "execution_count": null,
   "id": "be8eba32-5c47-4a68-9e35-a21c4159abe1",
   "metadata": {},
   "outputs": [],
   "source": [
    "for i in data:\n",
    "    print(i['label'].value_counts().sum())"
   ]
  },
  {
   "cell_type": "markdown",
   "id": "5db32fd1-4e25-47ce-bd83-b07e045036d0",
   "metadata": {
    "jp-MarkdownHeadingCollapsed": true
   },
   "source": [
    "###### test  and validation are both 2000 \n",
    "###### training data is 16000"
   ]
  },
  {
   "cell_type": "markdown",
   "id": "b8cfaf78-fc27-4560-ba50-d30f5d0aa70e",
   "metadata": {},
   "source": [
    "#### Visualization of the results"
   ]
  },
  {
   "cell_type": "code",
   "execution_count": null,
   "id": "f721ffe5-b18f-469f-9350-7e2569e09abc",
   "metadata": {},
   "outputs": [],
   "source": [
    "import matplotlib.pyplot as plt\n",
    "for i in data:\n",
    "    i['label'].value_counts().plot(kind='bar', color='orange')\n",
    "    plt.title('Bar Chart of Sentiments ')\n",
    "    plt.xlabel('Categories')\n",
    "    plt.ylabel('Count')\n",
    "    plt.show()\n"
   ]
  },
  {
   "cell_type": "code",
   "execution_count": null,
   "id": "e835deb3-3cc4-4af5-827f-b674b3a8ae67",
   "metadata": {},
   "outputs": [],
   "source": [
    "for i in data:\n",
    "        print(i['label'].isnull().sum())\n",
    "        \n",
    "        i['text'].isnull().sum()\n",
    "\n"
   ]
  },
  {
   "cell_type": "markdown",
   "id": "dfc4527c-12cf-4c9d-b631-da68f8915784",
   "metadata": {},
   "source": [
    "#### Convert text to lowercase, remove stopwords, punctuation, numbers, and unnecessary whitespace\n"
   ]
  },
  {
   "cell_type": "code",
   "execution_count": null,
   "id": "daf1dc28-1b11-4abc-8207-b71650c32b15",
   "metadata": {},
   "outputs": [],
   "source": [
    "import string\n",
    "from nltk.corpus import stopwords\n",
    "from nltk.tokenize import word_tokenize\n",
    "import re\n",
    "\n",
    "stop_words = set(stopwords.words('english'))\n",
    "\n",
    "def clean_text(text):\n",
    "    text = text.lower()\n",
    "    text = re.sub(r'[^a-zA-Z\\s]', '', text)\n",
    "    text = text.translate(str.maketrans('', '', string.punctuation))  \n",
    "    tokens = word_tokenize(text)\n",
    "    tokens = [word for word in tokens if word not in stop_words]\n",
    "    return ' '.join(tokens)\n",
    "for i in data:\n",
    "    \n",
    "    i['text'] = i['text'].apply(clean_text)\n"
   ]
  },
  {
   "cell_type": "code",
   "execution_count": null,
   "id": "1cf2586c-87a9-48c7-88db-293e721e4762",
   "metadata": {},
   "outputs": [],
   "source": []
  },
  {
   "cell_type": "code",
   "execution_count": null,
   "id": "f5df68d6-bd1d-4380-8548-0c7336bfc24c",
   "metadata": {},
   "outputs": [],
   "source": []
  },
  {
   "cell_type": "code",
   "execution_count": null,
   "id": "ec7d6c3d-51a6-4170-bef2-fddf3d7eb0eb",
   "metadata": {},
   "outputs": [],
   "source": [
    "for i in data:\n",
    " for column in i:\n",
    "    print(column)\n",
    "    print(f'{column}:{i[column].unique()}')"
   ]
  },
  {
   "cell_type": "code",
   "execution_count": null,
   "id": "f70977eb-bacf-4205-a1ed-a65d52c9f50d",
   "metadata": {},
   "outputs": [],
   "source": []
  },
  {
   "cell_type": "markdown",
   "id": "88b8b04c-eee1-4580-834b-dc5b26a366ec",
   "metadata": {},
   "source": [
    "\n",
    "### Sentiments and values the represent\n",
    "##### Sadness = 0\n",
    "##### Joy = 1\n",
    "##### Love = 2\n",
    "##### Anger = 3\n",
    "##### Fear = 4"
   ]
  },
  {
   "cell_type": "markdown",
   "id": "2354c5a3-2fac-47c6-9988-b192894c9d35",
   "metadata": {},
   "source": [
    "### Data Splitting and model Etraining and evaluation"
   ]
  },
  {
   "cell_type": "code",
   "execution_count": null,
   "id": "c8347005-c743-46cf-854d-d6cddafaae85",
   "metadata": {},
   "outputs": [],
   "source": [
    "x_test = test['text']\n",
    "y_test = test['label']\n"
   ]
  },
  {
   "cell_type": "code",
   "execution_count": null,
   "id": "656cf587-7c15-4dfb-956a-6a1b11ba1cde",
   "metadata": {},
   "outputs": [],
   "source": [
    "x_train = test['text']\n",
    "y_train = test['label']"
   ]
  },
  {
   "cell_type": "code",
   "execution_count": null,
   "id": "7ece5a9c-caf1-4682-9eb7-2697144db426",
   "metadata": {},
   "outputs": [],
   "source": [
    "x_valid = test['text']\n",
    "y_valid = test['label']"
   ]
  },
  {
   "cell_type": "code",
   "execution_count": null,
   "id": "62d17bba-703e-49a1-b6de-d6f52656263a",
   "metadata": {},
   "outputs": [],
   "source": [
    "from sklearn.feature_extraction.text import TfidfVectorizer\n",
    "from sklearn.feature_extraction.text import CountVectorizer\n",
    "\n",
    "\n",
    "\n",
    "vectorizer = CountVectorizer()\n",
    "x_train_tv = vectorizer.fit_transform(x_train)\n",
    "\n",
    "x_test_tv = vectorizer.transform(x_test)\n",
    "x_valid_tv = vectorizer.transform(x_valid)"
   ]
  },
  {
   "cell_type": "code",
   "execution_count": null,
   "id": "a445ba80-13d7-4291-be08-1ae93ae6c159",
   "metadata": {},
   "outputs": [],
   "source": [
    "from sklearn.linear_model import LogisticRegression\n",
    "from sklearn.metrics import classification_report\n"
   ]
  },
  {
   "cell_type": "code",
   "execution_count": null,
   "id": "5401831d-6d1e-436d-bfb2-a3871fd2f1a5",
   "metadata": {},
   "outputs": [],
   "source": [
    "clf = LogisticRegression(solver=\"lbfgs\",max_iter=200)"
   ]
  },
  {
   "cell_type": "code",
   "execution_count": null,
   "id": "bf751055-39fc-4f7d-b0b8-059cc7e94f96",
   "metadata": {},
   "outputs": [],
   "source": [
    "clf.fit(x_train_tv,y_train)\n"
   ]
  },
  {
   "cell_type": "code",
   "execution_count": null,
   "id": "70bd0dec-0f39-49b9-8f08-649b8e0ec9b7",
   "metadata": {},
   "outputs": [],
   "source": [
    "y_test_pred = clf.predict(x_test_tv)\n"
   ]
  },
  {
   "cell_type": "code",
   "execution_count": null,
   "id": "5c30ffa9-f411-40a5-a1bd-6e9cce35ac33",
   "metadata": {},
   "outputs": [],
   "source": [
    "print(classification_report(y_test,y_test_pred))\n"
   ]
  },
  {
   "cell_type": "code",
   "execution_count": null,
   "id": "46ece6ee-fd9a-4fe6-a70f-c5cfb799bb76",
   "metadata": {},
   "outputs": [],
   "source": []
  },
  {
   "cell_type": "code",
   "execution_count": null,
   "id": "64f97bae-3bcd-4656-8f24-b2903b385d01",
   "metadata": {},
   "outputs": [],
   "source": [
    "y_valid_pred = clf.predict(x_valid_tv)\n"
   ]
  },
  {
   "cell_type": "code",
   "execution_count": null,
   "id": "14f91dfa-60bb-4bca-ab28-8287346c1f0f",
   "metadata": {},
   "outputs": [],
   "source": [
    "print(classification_report(y_valid,y_valid_pred))\n"
   ]
  },
  {
   "cell_type": "code",
   "execution_count": null,
   "id": "0ec99b85-79db-449b-a675-8f54bd41ad6b",
   "metadata": {},
   "outputs": [],
   "source": []
  },
  {
   "cell_type": "code",
   "execution_count": null,
   "id": "9f5ed59c-2413-4fe6-9686-9de9af857c61",
   "metadata": {},
   "outputs": [],
   "source": [
    "import pickle\n",
    "pickle.dump(clf, open('emotion.pkl','wb'))"
   ]
  },
  {
   "cell_type": "code",
   "execution_count": null,
   "id": "e2e7017a-3bd8-4194-aa9c-3c7ab70da76c",
   "metadata": {},
   "outputs": [],
   "source": [
    "pickle.dump(vectorizer, open(\"vectorizer.pkl\",\"wb\"))\n"
   ]
  },
  {
   "cell_type": "code",
   "execution_count": null,
   "id": "466b4daf-0753-4f6f-ab96-a5db98d81b8e",
   "metadata": {},
   "outputs": [],
   "source": [
    "clf = pickle.load(open(\"emotion.pkl\",\"rb\"))\n"
   ]
  },
  {
   "cell_type": "code",
   "execution_count": null,
   "id": "0c9db67a-622d-4ac4-93a2-f0b478c05125",
   "metadata": {},
   "outputs": [],
   "source": []
  },
  {
   "cell_type": "code",
   "execution_count": null,
   "id": "5d9509d7-697c-462c-9dfa-646f7f9b12fc",
   "metadata": {},
   "outputs": [],
   "source": []
  }
 ],
 "metadata": {
  "kernelspec": {
   "display_name": "Python 3 (ipykernel)",
   "language": "python",
   "name": "python3"
  },
  "language_info": {
   "codemirror_mode": {
    "name": "ipython",
    "version": 3
   },
   "file_extension": ".py",
   "mimetype": "text/x-python",
   "name": "python",
   "nbconvert_exporter": "python",
   "pygments_lexer": "ipython3",
   "version": "3.12.4"
  }
 },
 "nbformat": 4,
 "nbformat_minor": 5
}
